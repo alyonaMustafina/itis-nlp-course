{
 "cells": [
  {
   "cell_type": "code",
   "execution_count": 40,
   "metadata": {},
   "outputs": [],
   "source": [
    "import numpy as np\n",
    "\n",
    "def create_embedding_matrix(word_index, embedding_dim):\n",
    "    vocab_size = len(word_index) + 1  # Adding again 1 because of reserved 0 index\n",
    "    embedding_matrix = np.zeros((vocab_size, embedding_dim))\n",
    "\n",
    "    with open('180/model.txt', encoding='utf-8') as f:\n",
    "        for line in f:\n",
    "            word_, *vector = line.split()\n",
    "            word = word_.split('_')[0]\n",
    "            if word in word_index:\n",
    "                idx = word_index[word] \n",
    "                embedding_matrix[idx] = np.array(\n",
    "                    vector, dtype=np.float32)\n",
    "\n",
    "    return embedding_matrix"
   ]
  },
  {
   "cell_type": "code",
   "execution_count": 2,
   "metadata": {},
   "outputs": [
    {
     "name": "stdout",
     "output_type": "stream",
     "text": [
      "189194\n"
     ]
    }
   ],
   "source": [
    "with open('180/model.txt', encoding='utf-8') as f:\n",
    "    i = 0\n",
    "    for line in f:\n",
    "        word, *vector = line.split()\n",
    "        i = i + 1 \n",
    "    print(i)"
   ]
  },
  {
   "cell_type": "code",
   "execution_count": 3,
   "metadata": {},
   "outputs": [],
   "source": [
    "import pymorphy2\n",
    "import nltk\n",
    "import string\n",
    "from nltk.corpus import stopwords\n",
    "\n",
    "\n",
    "morph = pymorphy2.MorphAnalyzer()\n",
    "\n",
    "stop_words = stopwords.words('russian')\n",
    "stop_words.extend(['«', '»', '–', '...', '“', '”', '—', '!',\n",
    "                   '@', '№', ':', ',', '.', '?', ':', '(', ')'])\n",
    "stop_words = set(stop_words)\n",
    "\n",
    "def normalize_review(review):\n",
    "    \"\"\"\n",
    "\n",
    "    :param review:\n",
    "    :param morph:\n",
    "    :return:\n",
    "    \"\"\"\n",
    "\n",
    "    tokens = nltk.word_tokenize(review)\n",
    "    normalized_tokens = []\n",
    "    # normalized_review = ''\n",
    "    for token in tokens:\n",
    "        token = morph.parse(token)[0].normal_form\n",
    "        if token not in stop_words and token not in string.punctuation:\n",
    "            normalized_tokens.append(token.lower())\n",
    "\n",
    "    return \" \".join(normalized_tokens)"
   ]
  },
  {
   "cell_type": "code",
   "execution_count": 29,
   "metadata": {},
   "outputs": [],
   "source": [
    "from keras.preprocessing.text import Tokenizer\n",
    "\n",
    "tokenizer = Tokenizer()\n",
    "\n",
    "train_texts = []\n",
    "with open('ALL_reviews.txt', encoding='utf-8') as f:\n",
    "    for line in f:\n",
    "        train_texts.append(normalize_review(line))\n",
    "\n",
    "test_texts = []\n",
    "with open('all_my_reviews.txt', encoding='utf-8') as f:\n",
    "    for line in f:\n",
    "        test_texts.append(normalize_review(line))\n",
    "\n",
    "        \n",
    "tokenizer.fit_on_texts(train_texts)\n",
    "X_train = tokenizer.texts_to_sequences(train_texts)\n",
    "X_test = tokenizer.texts_to_sequences(test_texts)\n",
    "\n",
    "import pandas\n",
    "excel_file = pandas.read_excel('Отзывы кино.xlsx', 0)\n",
    "\n",
    "# Оценки для отзывов\n",
    "Y_train = []\n",
    "\n",
    "for i, row in excel_file.iterrows():\n",
    "    if (row['title'] != 'Криминальное чтиво' and\n",
    "        row['title'] != 'Маленькая Мисс Счастье' and\n",
    "        row['title'] != 'Амели'):\n",
    "        Y_train.append(row['label'])\n",
    "        \n",
    "Y_test = []\n",
    "\n",
    "for i, row in excel_file.iterrows():\n",
    "    if (row['title'] == 'Криминальное чтиво' or\n",
    "        row['title'] == 'Маленькая Мисс Счастье' or\n",
    "        row['title'] == 'Амели'):\n",
    "        Y_test.append(row['label'])\n",
    "        \n"
   ]
  },
  {
   "cell_type": "code",
   "execution_count": 30,
   "metadata": {},
   "outputs": [
    {
     "name": "stdout",
     "output_type": "stream",
     "text": [
      "610\n",
      "90\n",
      "18656\n",
      "610\n",
      "90\n"
     ]
    }
   ],
   "source": [
    "print(len(X_train))\n",
    "print(len(X_test))\n",
    "print(len(tokenizer.word_index.items()))\n",
    "\n",
    "print(len(Y_train))\n",
    "print(len(Y_test))\n"
   ]
  },
  {
   "cell_type": "code",
   "execution_count": 33,
   "metadata": {},
   "outputs": [
    {
     "name": "stdout",
     "output_type": "stream",
     "text": [
      "1608\n",
      "Максимальное количество слов в самом длинном отзыве: 1608 слов\n",
      "Всего уникальных слов в словаре: 18656\n"
     ]
    }
   ],
   "source": [
    "# Максимальное количество слов в самом длинном отзыве\n",
    "lens = [len(x) for x in X_train]\n",
    "max_words = max(lens)\n",
    "print(max_words)\n",
    "\n",
    "print('Максимальное количество слов в самом длинном отзыве: {} слов'.format(max_words))\n",
    "\n",
    "total_unique_words = len(tokenizer.word_counts)\n",
    "print('Всего уникальных слов в словаре: {}'.format(total_unique_words))\n",
    "\n",
    "maxSequenceLength = max_words\n"
   ]
  },
  {
   "cell_type": "code",
   "execution_count": 34,
   "metadata": {},
   "outputs": [],
   "source": [
    "vocab_size = total_unique_words"
   ]
  },
  {
   "cell_type": "code",
   "execution_count": 39,
   "metadata": {},
   "outputs": [
    {
     "name": "stdout",
     "output_type": "stream",
     "text": [
      "Количество категорий для классификации: 3\n",
      "Размерность X_train: (610, 1608)\n",
      "Размерность X_test: (90, 1608)\n",
      "Преобразуем категории в матрицу двоичных чисел (для использования categorical_crossentropy)\n",
      "y_train shape: (610, 3)\n",
      "y_test shape: (90, 3)\n"
     ]
    }
   ],
   "source": [
    "from keras.preprocessing.sequence import pad_sequences\n",
    "import keras\n",
    "import numpy as np\n",
    "from sklearn.preprocessing import LabelEncoder\n",
    "\n",
    "encoder = LabelEncoder()\n",
    "encoder.fit(Y_train)\n",
    "y_train = encoder.transform(Y_train)\n",
    "y_test = encoder.transform(Y_test)\n",
    "\n",
    "num_classes = np.max(y_train) + 1\n",
    "print('Количество категорий для классификации: {}'.format(num_classes))\n",
    "\n",
    "\n",
    "x_train = pad_sequences(X_train, maxlen=maxSequenceLength)\n",
    "x_test = pad_sequences(X_test, maxlen=maxSequenceLength)\n",
    "print('Размерность X_train:', x_train.shape)\n",
    "print('Размерность X_test:', x_test.shape)\n",
    "\n",
    "print(u'Преобразуем категории в матрицу двоичных чисел '\n",
    "      u'(для использования categorical_crossentropy)')\n",
    "\n",
    "y_train = keras.utils.to_categorical(y_train, num_classes)\n",
    "y_test = keras.utils.to_categorical(y_test, num_classes)\n",
    "print('y_train shape:', y_train.shape)\n",
    "print('y_test shape:', y_test.shape)"
   ]
  },
  {
   "cell_type": "code",
   "execution_count": 45,
   "metadata": {},
   "outputs": [
    {
     "name": "stdout",
     "output_type": "stream",
     "text": [
      "Собираем модель...\n",
      "Model: \"sequential_3\"\n",
      "_________________________________________________________________\n",
      "Layer (type)                 Output Shape              Param #   \n",
      "=================================================================\n",
      "embedding_3 (Embedding)      (None, 1608, 300)         5597100   \n",
      "_________________________________________________________________\n",
      "lstm_2 (LSTM)                (None, 300)               721200    \n",
      "_________________________________________________________________\n",
      "dense_2 (Dense)              (None, 3)                 903       \n",
      "=================================================================\n",
      "Total params: 6,319,203\n",
      "Trainable params: 722,103\n",
      "Non-trainable params: 5,597,100\n",
      "_________________________________________________________________\n",
      "None\n"
     ]
    }
   ],
   "source": [
    "from keras.models import Sequential\n",
    "from keras.layers import Dense, Embedding, LSTM\n",
    "\n",
    "# максимальное количество слов для анализа\n",
    "max_features = vocab_size + 1\n",
    "\n",
    "\n",
    "embedding_dim = 300\n",
    "embedding_matrix = create_embedding_matrix(tokenizer.word_index, embedding_dim)\n",
    "\n",
    "print(u'Собираем модель...')\n",
    "model = Sequential()\n",
    "model.add(Embedding(input_dim=max_features, output_dim=300, input_length=maxSequenceLength, weights=[embedding_matrix], trainable=False))\n",
    "model.add(LSTM(300, dropout=0.2, recurrent_dropout=0.2))\n",
    "model.add(Dense(num_classes, activation='sigmoid'))\n",
    "\n",
    "model.compile(loss='binary_crossentropy',\n",
    "              optimizer='adam',\n",
    "              metrics=['accuracy'])\n",
    "\n",
    "print (model.summary())\n"
   ]
  },
  {
   "cell_type": "code",
   "execution_count": 46,
   "metadata": {},
   "outputs": [
    {
     "name": "stdout",
     "output_type": "stream",
     "text": [
      "Тренируем модель...\n",
      "Train on 610 samples, validate on 90 samples\n",
      "Epoch 1/3\n",
      "610/610 [==============================] - 364s 596ms/step - loss: 0.6304 - accuracy: 0.6563 - val_loss: 0.5970 - val_accuracy: 0.6741\n",
      "Epoch 2/3\n",
      "610/610 [==============================] - 399s 655ms/step - loss: 0.5320 - accuracy: 0.7410 - val_loss: 0.6063 - val_accuracy: 0.6444\n",
      "Epoch 3/3\n",
      "610/610 [==============================] - 424s 696ms/step - loss: 0.4580 - accuracy: 0.7896 - val_loss: 0.6130 - val_accuracy: 0.6963\n"
     ]
    }
   ],
   "source": [
    "batch_size = 32\n",
    "epochs = 3\n",
    "\n",
    "print(u'Тренируем модель...')\n",
    "history = model.fit(\n",
    "    x_train, \n",
    "    y_train,\n",
    "    batch_size=batch_size,\n",
    "    epochs=epochs,\n",
    "    validation_data=(x_test, y_test),\n",
    "    verbose=1\n",
    ")\n"
   ]
  },
  {
   "cell_type": "code",
   "execution_count": 67,
   "metadata": {},
   "outputs": [
    {
     "name": "stdout",
     "output_type": "stream",
     "text": [
      "610/610 [==============================] - 75s 124ms/step\n",
      "Training Accuracy: 0.8366\n",
      "90/90 [==============================] - 11s 127ms/step\n",
      "Testing Accuracy:  0.6963\n"
     ]
    }
   ],
   "source": [
    "loss, accuracy = model.evaluate(x_train, y_train, batch_size=batch_size, verbose=1)\n",
    "print(\"Training Accuracy: {:.4f}\".format(accuracy))\n",
    "loss, accuracy = model.evaluate(x_test, y_test, batch_size=batch_size, verbose=1)\n",
    "print(\"Testing Accuracy:  {:.4f}\".format(accuracy))"
   ]
  },
  {
   "cell_type": "code",
   "execution_count": 64,
   "metadata": {},
   "outputs": [
    {
     "data": {
      "text/plain": [
       "<matplotlib.legend.Legend at 0x22a1f222c88>"
      ]
     },
     "execution_count": 64,
     "metadata": {},
     "output_type": "execute_result"
    },
    {
     "data": {
      "image/png": "[encoded data removed]",
      "text/plain": [
       "<Figure size 432x288 with 1 Axes>"
      ]
     },
     "metadata": {},
     "output_type": "display_data"
    }
   ],
   "source": [
    "# Посмотрим на эффективность обучения\n",
    "import matplotlib.pyplot as plt\n",
    "%matplotlib inline\n",
    "plt.style.use(\"ggplot\")\n",
    "plt.figure()\n",
    "N = epochs\n",
    "plt.plot(np.arange(0, N), history.history[\"loss\"], label=\"train_loss\")\n",
    "plt.plot(np.arange(0, N), history.history[\"val_loss\"], label=\"val_loss\")\n",
    "plt.plot(np.arange(0, N), history.history[\"accuracy\"], label=\"train_acc\")\n",
    "plt.plot(np.arange(0, N), history.history[\"val_accuracy\"], label=\"val_acc\")\n",
    "plt.title(\"Эффективность обучения\")\n",
    "plt.xlabel(\"Повторения #\")\n",
    "plt.ylabel(\"Ошибки\")\n",
    "plt.legend(loc=\"lower left\")\n"
   ]
  },
  {
   "cell_type": "code",
   "execution_count": 62,
   "metadata": {},
   "outputs": [
    {
     "name": "stdout",
     "output_type": "stream",
     "text": [
      "[-1, -1, -1, -1, -1, -1, -1, -1, -1, -1, 0, 0, 0, 0, 0, 0, 0, 0, 0, 0, 1, 1, 1, 1, 1, 1, 1, 1, 1, 1, -1, -1, -1, -1, -1, -1, -1, -1, -1, -1, 0, 0, 0, 0, 0, 0, 0, 0, 0, 0, 1, 1, 1, 1, 1, 1, 1, 1, 1, 1, -1, -1, -1, -1, -1, -1, -1, -1, -1, -1, 0, 0, 0, 0, 0, 0, 0, 0, 0, 0, 1, 1, 1, 1, 1, 1, 1, 1, 1, 1]\n",
      "[-1, -1, 1, 1, -1, -1, -1, -1, -1, -1, 1, -1, -1, 1, -1, -1, -1, 1, -1, -1, -1, -1, 1, -1, 1, 1, 1, 1, 1, 1, -1, -1, -1, 0, -1, -1, -1, -1, -1, -1, -1, 0, 1, 1, 1, 1, -1, 0, 1, 1, 1, 1, 1, 1, -1, -1, 1, 1, 1, -1, 1, 0, 0, -1, -1, -1, -1, -1, 0, -1, 1, 1, 1, 1, -1, 1, -1, 0, 1, 1, 1, 1, 1, 1, 1, -1, 1, 1, 1, 0]\n",
      "LSTM Accuracy Score ->  53.333333333333336\n",
      "(0.4908536585365854, 0.5333333333333333, 0.4751667902149741, None)\n"
     ]
    }
   ],
   "source": [
    "text_labels = encoder.classes_ \n",
    "\n",
    "pred_classes = []\n",
    "\n",
    "for i in range(90):\n",
    "    prediction = model.predict(np.array([x_test[i]]))\n",
    "    predicted_label = text_labels[np.argmax(prediction)]\n",
    "    pred_classes.append(predicted_label)\n",
    "    \n",
    "\n",
    "from sklearn.metrics import classification_report\n",
    "from sklearn.metrics import precision_recall_fscore_support\n",
    "from sklearn.metrics import accuracy_score\n",
    "    \n",
    "print(Y_test)\n",
    "print(pred_classes)\n",
    "print(\"LSTM Accuracy Score -> \",accuracy_score(pred_classes, Y_test)*100)\n",
    "print(precision_recall_fscore_support(Y_test, pred_classes, average='weighted'))\n"
   ]
  },
  {
   "cell_type": "code",
   "execution_count": null,
   "metadata": {},
   "outputs": [],
   "source": []
  }
 ],
 "metadata": {
  "kernelspec": {
   "display_name": "Python 3",
   "language": "python",
   "name": "python3"
  },
  "language_info": {
   "codemirror_mode": {
    "name": "ipython",
    "version": 3
   },
   "file_extension": ".py",
   "mimetype": "text/x-python",
   "name": "python",
   "nbconvert_exporter": "python",
   "pygments_lexer": "ipython3",
   "version": "3.6.6"
  }
 },
 "nbformat": 4,
 "nbformat_minor": 4
}
