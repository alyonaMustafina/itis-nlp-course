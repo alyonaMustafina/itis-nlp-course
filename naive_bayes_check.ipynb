{
 "cells": [
  {
   "cell_type": "code",
   "execution_count": 2,
   "metadata": {},
   "outputs": [],
   "source": [
    "# coding: utf8\n",
    "import math\n",
    "import string\n",
    "\n",
    "import nltk\n",
    "import pandas\n",
    "import pymorphy2\n",
    "from nltk.corpus import stopwords\n",
    "\n",
    "\n",
    "\n",
    "def normalize_review(review, morph):\n",
    "    \"\"\"\n",
    "\n",
    "    :param review:\n",
    "    :param morph:\n",
    "    :return:\n",
    "    \"\"\"\n",
    "    \n",
    "    # Токены для исключения из корпуса\n",
    "#     stop_words = stopwords.words('russian')\n",
    "#     stop_words.extend(['«', '»', '–', '...', '“', '”', '—', '!',\n",
    "#                     '@', '№', ':', ',', '.', '?', ':', '(', ')'])\n",
    "    \n",
    "    stop_words = ['«', '»', '...', '“', '”', '—', '№']\n",
    "\n",
    "    tokens = nltk.word_tokenize(review)\n",
    "    normalized_tokens = []\n",
    "    # normalized_review = ''\n",
    "    for token in tokens:\n",
    "        token = morph.parse(token)[0].normal_form\n",
    "        if token not in stop_words and token not in string.punctuation:\n",
    "            normalized_tokens.append(token.lower())\n",
    "\n",
    "    return \" \".join(normalized_tokens)\n",
    "\n",
    "def get_trained_model(morph):\n",
    "    \"\"\"\n",
    "    Обучаем модель на всех ревью из таблицы, кроме тех, что надо будет\n",
    "    классифицировать.\n",
    "\n",
    "    :param morph:\n",
    "    :return model: Ключи - классы, значения - списки с нормализованными ревью,\n",
    "    относящимися к соответствующему классу\n",
    "    \"\"\"\n",
    "    model = {\n",
    "        '1': [],\n",
    "        '-1': [],\n",
    "        '0': []\n",
    "    }\n",
    "    excel_file = pandas.read_excel('Отзывы кино.xlsx', 0)\n",
    "    for i, row in excel_file.iterrows():\n",
    "        if (row['title'] == 'Криминальное чтиво' or\n",
    "                row['title'] == 'Маленькая Мисс Счастье' or\n",
    "                row['title'] == 'Амели'):\n",
    "            continue\n",
    "\n",
    "        model[str(row['label'])].append(normalize_review(row['text'], morph))\n",
    "\n",
    "    return model\n",
    "\n",
    "\n",
    "def get_reviews_to_classify(morph):\n",
    "    \"\"\"\n",
    "    Получаем ревью из эксель таблицы, которые надо классифицировать.\n",
    "\n",
    "    :param morph:\n",
    "    :return tuple: (название фильма, текст ревью, реальный класс ревью)\n",
    "    \"\"\"\n",
    "    model = {\n",
    "        '1': [],\n",
    "        '-1': [],\n",
    "        '0': []\n",
    "    }\n",
    "    excel_file = pandas.read_excel('Отзывы кино.xlsx', 0)\n",
    "    for i, row in excel_file.iterrows():\n",
    "        if (row['title'] == 'Криминальное чтиво' or\n",
    "                row['title'] == 'Маленькая Мисс Счастье' or\n",
    "                row['title'] == 'Амели'):\n",
    "            model[str(row['label'])].append(normalize_review(row['text'], morph)[1])\n",
    "\n",
    "    return model\n",
    "\n",
    "\n",
    "\n",
    "morph = pymorphy2.MorphAnalyzer()\n",
    "\n",
    "# Обучаем модель\n",
    "trained_model = get_trained_model(morph)\n",
    "\n",
    "# Делаем выборку из ревью для классификаций\n",
    "reviews_to_classify = get_reviews_to_classify(morph)\n",
    "\n"
   ]
  },
  {
   "cell_type": "code",
   "execution_count": 3,
   "metadata": {},
   "outputs": [],
   "source": [
    "from sklearn.feature_extraction.text import CountVectorizer\n",
    "cv = CountVectorizer()\n",
    "\n",
    "X_train = trained_model['0'] + trained_model['-1'] + trained_model['1']\n",
    "Y_train = ['0']*len(trained_model['0']) + ['-1']*len(trained_model['-1']) + ['1']*len(trained_model['1'])\n",
    "\n",
    "X_test = reviews_to_classify['0'] + reviews_to_classify['-1'] + reviews_to_classify['1']\n",
    "Y_test = ['0']*len(reviews_to_classify['0']) + ['-1']*len(reviews_to_classify['-1']) + ['1']*len(reviews_to_classify['1'])\n",
    "\n",
    "X_train = cv.fit_transform(X_train).toarray()\n",
    "X_test = cv.transform(X_test).toarray()\n",
    "\n",
    "from sklearn.naive_bayes import MultinomialNB, GaussianNB\n",
    "mnb = MultinomialNB()\n",
    "mnb = GaussianNB()\n"
   ]
  },
  {
   "cell_type": "code",
   "execution_count": 4,
   "metadata": {},
   "outputs": [
    {
     "data": {
      "text/plain": [
       "GaussianNB(priors=None, var_smoothing=1e-09)"
      ]
     },
     "execution_count": 4,
     "metadata": {},
     "output_type": "execute_result"
    }
   ],
   "source": [
    "mnb.fit(X_train,Y_train)"
   ]
  },
  {
   "cell_type": "code",
   "execution_count": 5,
   "metadata": {},
   "outputs": [],
   "source": [
    "y_pred = mnb.predict(X_test)"
   ]
  },
  {
   "cell_type": "code",
   "execution_count": 6,
   "metadata": {
    "scrolled": true
   },
   "outputs": [
    {
     "name": "stdout",
     "output_type": "stream",
     "text": [
      "['0', '0', '0', '0', '0', '0', '0', '0', '0', '0', '0', '0', '0', '0', '0', '0', '0', '0', '0', '0', '0', '0', '0', '0', '0', '0', '0', '0', '0', '0', '-1', '-1', '-1', '-1', '-1', '-1', '-1', '-1', '-1', '-1', '-1', '-1', '-1', '-1', '-1', '-1', '-1', '-1', '-1', '-1', '-1', '-1', '-1', '-1', '-1', '-1', '-1', '-1', '-1', '-1', '1', '1', '1', '1', '1', '1', '1', '1', '1', '1', '1', '1', '1', '1', '1', '1', '1', '1', '1', '1', '1', '1', '1', '1', '1', '1', '1', '1', '1', '1']\n",
      "['0' '0' '0' '0' '0' '0' '0' '0' '0' '0' '0' '0' '0' '0' '0' '0' '0' '0'\n",
      " '0' '0' '0' '0' '0' '0' '0' '0' '0' '0' '0' '0' '0' '0' '0' '0' '0' '0'\n",
      " '0' '0' '0' '0' '0' '0' '0' '0' '0' '0' '0' '0' '0' '0' '0' '0' '0' '0'\n",
      " '0' '0' '0' '0' '0' '0' '0' '0' '0' '0' '0' '0' '0' '0' '0' '0' '0' '0'\n",
      " '0' '0' '0' '0' '0' '0' '0' '0' '0' '0' '0' '0' '0' '0' '0' '0' '0' '0']\n"
     ]
    },
    {
     "data": {
      "text/plain": [
       "array([[ 0, 30,  0],\n",
       "       [ 0, 30,  0],\n",
       "       [ 0, 30,  0]], dtype=int64)"
      ]
     },
     "execution_count": 6,
     "metadata": {},
     "output_type": "execute_result"
    }
   ],
   "source": [
    "from sklearn.metrics import confusion_matrix\n",
    "\n",
    "print(Y_test)\n",
    "print(y_pred)\n",
    "confusion_matrix(y_true=Y_test, y_pred=y_pred)"
   ]
  },
  {
   "cell_type": "code",
   "execution_count": 7,
   "metadata": {},
   "outputs": [
    {
     "name": "stdout",
     "output_type": "stream",
     "text": [
      "              precision    recall  f1-score   support\n",
      "\n",
      "           0       0.33      1.00      0.50        30\n",
      "          -1       0.00      0.00      0.00        30\n",
      "           1       0.00      0.00      0.00        30\n",
      "\n",
      "    accuracy                           0.33        90\n",
      "   macro avg       0.11      0.33      0.17        90\n",
      "weighted avg       0.11      0.33      0.17        90\n",
      "\n"
     ]
    },
    {
     "name": "stderr",
     "output_type": "stream",
     "text": [
      "c:\\users\\alyona\\appdata\\local\\programs\\python\\python36\\lib\\site-packages\\sklearn\\metrics\\_classification.py:1272: UndefinedMetricWarning: Precision and F-score are ill-defined and being set to 0.0 in labels with no predicted samples. Use `zero_division` parameter to control this behavior.\n",
      "  _warn_prf(average, modifier, msg_start, len(result))\n"
     ]
    }
   ],
   "source": [
    "from sklearn import metrics\n",
    "print(metrics.classification_report(Y_test, y_pred, labels=[\"0\", \"-1\", \"1\"]))"
   ]
  },
  {
   "cell_type": "code",
   "execution_count": 8,
   "metadata": {},
   "outputs": [
    {
     "name": "stdout",
     "output_type": "stream",
     "text": [
      "(0.1111111111111111, 0.3333333333333333, 0.16666666666666666, None)\n"
     ]
    }
   ],
   "source": [
    "print(metrics.precision_recall_fscore_support(Y_test, y_pred, average='weighted'))"
   ]
  },
  {
   "cell_type": "code",
   "execution_count": 10,
   "metadata": {},
   "outputs": [
    {
     "name": "stdout",
     "output_type": "stream",
     "text": [
      "NB Accuracy Score ->  33.33333333333333\n"
     ]
    }
   ],
   "source": [
    "from sklearn.metrics import accuracy_score\n",
    "print(\"NB Accuracy Score -> \",accuracy_score(y_pred, Y_test)*100)"
   ]
  },
  {
   "cell_type": "code",
   "execution_count": null,
   "metadata": {},
   "outputs": [],
   "source": []
  }
 ],
 "metadata": {
  "kernelspec": {
   "display_name": "Python 3",
   "language": "python",
   "name": "python3"
  },
  "language_info": {
   "codemirror_mode": {
    "name": "ipython",
    "version": 3
   },
   "file_extension": ".py",
   "mimetype": "text/x-python",
   "name": "python",
   "nbconvert_exporter": "python",
   "pygments_lexer": "ipython3",
   "version": "3.6.6"
  }
 },
 "nbformat": 4,
 "nbformat_minor": 4
}
